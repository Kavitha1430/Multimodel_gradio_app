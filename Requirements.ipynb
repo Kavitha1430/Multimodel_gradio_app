{
  "nbformat": 4,
  "nbformat_minor": 0,
  "metadata": {
    "colab": {
      "provenance": []
    },
    "kernelspec": {
      "name": "python3",
      "display_name": "Python 3"
    },
    "language_info": {
      "name": "python"
    }
  },
  "cells": [
    {
      "cell_type": "code",
      "execution_count": null,
      "metadata": {
        "id": "iGeL3iEXXTQE"
      },
      "outputs": [],
      "source": [
        "torch==2.0.1\n",
        "gradio==3.15.0\n",
        "transformers==4.28.0\n",
        "groq\n",
        "diffusers\n",
        "torchaudio\n",
        "Numpy\n",
        "sentencepiece"
      ]
    }
  ]
}